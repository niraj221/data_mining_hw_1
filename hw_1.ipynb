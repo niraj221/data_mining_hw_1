{
 "cells": [
  {
   "cell_type": "markdown",
   "metadata": {},
   "source": [
    "# Student Information\n",
    "Name: Abner Tellez Sazo\n",
    "\n",
    "Student ID: 106065434"
   ]
  },
  {
   "cell_type": "markdown",
   "metadata": {},
   "source": [
    "---"
   ]
  },
  {
   "cell_type": "markdown",
   "metadata": {},
   "source": [
    "### Instructions"
   ]
  },
  {
   "cell_type": "markdown",
   "metadata": {},
   "source": [
    "- Download the dataset provided in this [link](https://archive.ics.uci.edu/ml/datasets/Sentiment+Labelled+Sentences#). The sentiment dataset contains a `sentence` and `score` label. Read what the dataset is about on the link provided before you start exploring it. \n",
    "\n",
    "\n",
    "- Then, you are asked to apply each of the data exploration and data operation techniques learned in the [first lab session](https://goo.gl/Sg4FS1) on the new dataset. You don't need to explain all the procedures as we did in the notebook, but you are expected to provide some **minimal comments** explaining your code. You are also expected to use the same libraries used in the first lab session. You are allowed to use and modify the `helper` functions we provided in the first lab session or create your own. Also, be aware that the helper functions may need modification as you are dealing with a completely different dataset. This part is worth 80% of your grade!\n",
    "\n",
    "\n",
    "- After you have completed the operations, you should attempt the **bonus exercises** provided in the [notebook](https://goo.gl/Sg4FS1) we used for the first lab session. There are six (6) additional exercises; attempt them all, as it is part of your grade (10%). \n",
    "\n",
    "\n",
    "- You are also expected to tidy up your notebook and attempt new data operations that you have learned so far in the Data Mining course. Surprise us! This segment is worth 10% of your grade.\n",
    "\n",
    "\n",
    "- After completing all the above tasks, you are free to remove this header block and submit your assignment following the guide provided in the `README.md` file of the assignment's [repository](https://github.com/omarsar/data_mining_hw_1). "
   ]
  },
  {
   "cell_type": "code",
   "execution_count": 1,
   "metadata": {
    "collapsed": true
   },
   "outputs": [],
   "source": [
    "# necessary for when working with external scripts\n",
    "%load_ext autoreload\n",
    "%autoreload 2"
   ]
  },
  {
   "cell_type": "code",
   "execution_count": 2,
   "metadata": {},
   "outputs": [],
   "source": [
    "import pandas as pd\n",
    "import numpy as np\n",
    "import nltk\n",
    "from sklearn.datasets import load_files\n",
    "from sklearn.feature_extraction.text import CountVectorizer\n",
    "import plotly.plotly as py1\n",
    "import plotly.graph_objs as go\n",
    "import math\n",
    "%matplotlib inline\n",
    "\n",
    "# TA functions\n",
    "import helpers.data_mining_helpers as dmh\n",
    "import helpers.text_analysis as ta\n",
    "\n",
    "# My functions\n",
    "import helpers.csv_constructor as cc\n",
    "\n",
    "#URL Data set\n",
    "DATA_SET_URL = \"https://archive.ics.uci.edu/ml/machine-learning-databases/00331/sentiment%20labelled%20sentences.zip\"\n"
   ]
  },
  {
   "cell_type": "markdown",
   "metadata": {},
   "source": [
    "# 1. Data source"
   ]
  },
  {
   "cell_type": "code",
   "execution_count": 3,
   "metadata": {},
   "outputs": [
    {
     "name": "stdout",
     "output_type": "stream",
     "text": [
      "Extracting files...\n",
      "Done!\n"
     ]
    }
   ],
   "source": [
    "# Load data\n",
    "cc.download_zip(DATA_SET_URL)"
   ]
  },
  {
   "cell_type": "code",
   "execution_count": 4,
   "metadata": {},
   "outputs": [],
   "source": [
    "# Obtain the data trail using csv file in \"dataset\" folder\n",
    "data_train= pd.read_csv(\"dataset/dataset.csv\",delimiter=\"|\")"
   ]
  },
  {
   "cell_type": "code",
   "execution_count": 5,
   "metadata": {},
   "outputs": [
    {
     "name": "stdout",
     "output_type": "stream",
     "text": [
      "            Source                                           Sentence  Score\n",
      "0     amazon_cells  So there is no way for me to plug it in here i...      0\n",
      "1     amazon_cells                        Good case, Excellent value.      1\n",
      "2     amazon_cells                             Great for the jawbone.      1\n",
      "3     amazon_cells  Tied to charger for conversations lasting more...      0\n",
      "4     amazon_cells                                  The mic is great.      1\n",
      "5     amazon_cells  I have to jiggle the plug to get it to line up...      0\n",
      "6     amazon_cells  If you have several dozen or several hundred c...      0\n",
      "7     amazon_cells        If you are Razr owner...you must have this!      1\n",
      "8     amazon_cells                Needless to say, I wasted my money.      0\n",
      "9     amazon_cells                   What a waste of money and time!.      0\n",
      "10    amazon_cells                    And the sound quality is great.      1\n",
      "11    amazon_cells  He was very impressed when going from the orig...      1\n",
      "12    amazon_cells  If the two were seperated by a mere 5+ ft I st...      0\n",
      "13    amazon_cells                           Very good quality though      1\n",
      "14    amazon_cells  The design is very odd, as the ear \"clip\" is n...      0\n",
      "15    amazon_cells  Highly recommend for any one who has a blue to...      1\n",
      "16    amazon_cells                I advise EVERYONE DO NOT BE FOOLED!      0\n",
      "17    amazon_cells                                   So Far So Good!.      1\n",
      "18    amazon_cells                                      Works great!.      1\n",
      "19    amazon_cells  It clicks into place in a way that makes you w...      0\n",
      "20    amazon_cells  I went on Motorola's website and followed all ...      0\n",
      "21    amazon_cells  I bought this to use with my Kindle Fire and a...      1\n",
      "22    amazon_cells           The commercials are the most misleading.      0\n",
      "23    amazon_cells  I have yet to run this new battery below two b...      1\n",
      "24    amazon_cells  I bought it for my mother and she had a proble...      0\n",
      "25    amazon_cells               Great Pocket PC / phone combination.      1\n",
      "26    amazon_cells  I've owned this phone for 7 months now and can...      1\n",
      "27    amazon_cells  I didn't think that the instructions provided ...      0\n",
      "28    amazon_cells  People couldnt hear me talk and I had to pull ...      0\n",
      "29    amazon_cells                               Doesn't hold charge.      0\n",
      "...            ...                                                ...    ...\n",
      "2970          yelp  I immediately said I wanted to talk to the man...      0\n",
      "2971          yelp                    The ambiance isn't much better.      0\n",
      "2972          yelp  Unfortunately, it only set us up for disapppoi...      0\n",
      "2973          yelp                              The food wasn't good.      0\n",
      "2974          yelp  Your servers suck, wait, correction, our serve...      0\n",
      "2975          yelp      What happened next was pretty....off putting.      0\n",
      "2976          yelp  too bad cause I know it's family owned, I real...      0\n",
      "2977          yelp               Overpriced for what you are getting.      0\n",
      "2978          yelp               I vomited in the bathroom mid lunch.      0\n",
      "2979          yelp  I kept looking at the time and it had soon bec...      0\n",
      "2980          yelp  I have been to very few places to eat that und...      0\n",
      "2981          yelp  We started with the tuna sashimi which was bro...      0\n",
      "2982          yelp                            Food was below average.      0\n",
      "2983          yelp  It sure does beat the nachos at the movies but...      0\n",
      "2984          yelp       All in all, Ha Long Bay was a bit of a flop.      0\n",
      "2985          yelp  The problem I have is that they charge $11.99 ...      0\n",
      "2986          yelp  Shrimp- When I unwrapped it (I live only 1/2 a...      0\n",
      "2987          yelp     It lacked flavor, seemed undercooked, and dry.      0\n",
      "2988          yelp  It really is impressive that the place hasn't ...      0\n",
      "2989          yelp  I would avoid this place if you are staying in...      0\n",
      "2990          yelp  The refried beans that came with my meal were ...      0\n",
      "2991          yelp         Spend your money and time some place else.      0\n",
      "2992          yelp  A lady at the table next to us found a live gr...      0\n",
      "2993          yelp            the presentation of the food was awful.      0\n",
      "2994          yelp           I can't tell you how disappointed I was.      0\n",
      "2995          yelp  I think food should have flavor and texture an...      0\n",
      "2996          yelp                           Appetite instantly gone.      0\n",
      "2997          yelp  Overall I was not impressed and would not go b...      0\n",
      "2998          yelp  The whole experience was underwhelming, and I ...      0\n",
      "2999          yelp  Then, as if I hadn't wasted enough of my life ...      0\n",
      "\n",
      "[3000 rows x 3 columns]\n"
     ]
    }
   ],
   "source": [
    "# Show data_train and data_train size\n",
    "print(data_train)"
   ]
  },
  {
   "cell_type": "code",
   "execution_count": 6,
   "metadata": {},
   "outputs": [
    {
     "data": {
      "text/html": [
       "<div>\n",
       "<style>\n",
       "    .dataframe thead tr:only-child th {\n",
       "        text-align: right;\n",
       "    }\n",
       "\n",
       "    .dataframe thead th {\n",
       "        text-align: left;\n",
       "    }\n",
       "\n",
       "    .dataframe tbody tr th {\n",
       "        vertical-align: top;\n",
       "    }\n",
       "</style>\n",
       "<table border=\"1\" class=\"dataframe\">\n",
       "  <thead>\n",
       "    <tr style=\"text-align: right;\">\n",
       "      <th></th>\n",
       "      <th>Source</th>\n",
       "      <th>Sentence</th>\n",
       "      <th>Score</th>\n",
       "    </tr>\n",
       "  </thead>\n",
       "  <tbody>\n",
       "    <tr>\n",
       "      <th>0</th>\n",
       "      <td>amazon_cells</td>\n",
       "      <td>So there is no way for me to plug it in here i...</td>\n",
       "      <td>0</td>\n",
       "    </tr>\n",
       "    <tr>\n",
       "      <th>1</th>\n",
       "      <td>amazon_cells</td>\n",
       "      <td>Good case, Excellent value.</td>\n",
       "      <td>1</td>\n",
       "    </tr>\n",
       "    <tr>\n",
       "      <th>2</th>\n",
       "      <td>amazon_cells</td>\n",
       "      <td>Great for the jawbone.</td>\n",
       "      <td>1</td>\n",
       "    </tr>\n",
       "    <tr>\n",
       "      <th>3</th>\n",
       "      <td>amazon_cells</td>\n",
       "      <td>Tied to charger for conversations lasting more...</td>\n",
       "      <td>0</td>\n",
       "    </tr>\n",
       "    <tr>\n",
       "      <th>4</th>\n",
       "      <td>amazon_cells</td>\n",
       "      <td>The mic is great.</td>\n",
       "      <td>1</td>\n",
       "    </tr>\n",
       "    <tr>\n",
       "      <th>5</th>\n",
       "      <td>amazon_cells</td>\n",
       "      <td>I have to jiggle the plug to get it to line up...</td>\n",
       "      <td>0</td>\n",
       "    </tr>\n",
       "    <tr>\n",
       "      <th>6</th>\n",
       "      <td>amazon_cells</td>\n",
       "      <td>If you have several dozen or several hundred c...</td>\n",
       "      <td>0</td>\n",
       "    </tr>\n",
       "    <tr>\n",
       "      <th>7</th>\n",
       "      <td>amazon_cells</td>\n",
       "      <td>If you are Razr owner...you must have this!</td>\n",
       "      <td>1</td>\n",
       "    </tr>\n",
       "    <tr>\n",
       "      <th>8</th>\n",
       "      <td>amazon_cells</td>\n",
       "      <td>Needless to say, I wasted my money.</td>\n",
       "      <td>0</td>\n",
       "    </tr>\n",
       "    <tr>\n",
       "      <th>9</th>\n",
       "      <td>amazon_cells</td>\n",
       "      <td>What a waste of money and time!.</td>\n",
       "      <td>0</td>\n",
       "    </tr>\n",
       "  </tbody>\n",
       "</table>\n",
       "</div>"
      ],
      "text/plain": [
       "         Source                                           Sentence  Score\n",
       "0  amazon_cells  So there is no way for me to plug it in here i...      0\n",
       "1  amazon_cells                        Good case, Excellent value.      1\n",
       "2  amazon_cells                             Great for the jawbone.      1\n",
       "3  amazon_cells  Tied to charger for conversations lasting more...      0\n",
       "4  amazon_cells                                  The mic is great.      1\n",
       "5  amazon_cells  I have to jiggle the plug to get it to line up...      0\n",
       "6  amazon_cells  If you have several dozen or several hundred c...      0\n",
       "7  amazon_cells        If you are Razr owner...you must have this!      1\n",
       "8  amazon_cells                Needless to say, I wasted my money.      0\n",
       "9  amazon_cells                   What a waste of money and time!.      0"
      ]
     },
     "execution_count": 6,
     "metadata": {},
     "output_type": "execute_result"
    }
   ],
   "source": [
    "# Print data train\n",
    "data_train[0:10]"
   ]
  },
  {
   "cell_type": "markdown",
   "metadata": {},
   "source": [
    "## Sample of subset"
   ]
  },
  {
   "cell_type": "code",
   "execution_count": null,
   "metadata": {
    "collapsed": true
   },
   "outputs": [],
   "source": []
  }
 ],
 "metadata": {
  "kernelspec": {
   "display_name": "Python 3",
   "language": "python",
   "name": "python3"
  },
  "language_info": {
   "codemirror_mode": {
    "name": "ipython",
    "version": 3
   },
   "file_extension": ".py",
   "mimetype": "text/x-python",
   "name": "python",
   "nbconvert_exporter": "python",
   "pygments_lexer": "ipython3",
   "version": "3.6.1"
  }
 },
 "nbformat": 4,
 "nbformat_minor": 2
}
